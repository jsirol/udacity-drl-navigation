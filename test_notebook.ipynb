{
 "cells": [
  {
   "cell_type": "markdown",
   "metadata": {},
   "source": [
    "# Training the model\n",
    "In this notebook, we train the model."
   ]
  },
  {
   "cell_type": "code",
   "execution_count": 1,
   "metadata": {},
   "outputs": [],
   "source": [
    "from unityagents import UnityEnvironment\n",
    "import numpy as np\n",
    "\n",
    "import torch\n",
    "from collections import deque\n",
    "import matplotlib.pyplot as plt\n",
    "%matplotlib inline"
   ]
  },
  {
   "cell_type": "code",
   "execution_count": 2,
   "metadata": {},
   "outputs": [
    {
     "name": "stderr",
     "output_type": "stream",
     "text": [
      "INFO:unityagents:\n",
      "'Academy' started successfully!\n",
      "Unity Academy name: Academy\n",
      "        Number of Brains: 1\n",
      "        Number of External Brains : 1\n",
      "        Lesson number : 0\n",
      "        Reset Parameters :\n",
      "\t\t\n",
      "Unity brain name: BananaBrain\n",
      "        Number of Visual Observations (per agent): 0\n",
      "        Vector Observation space type: continuous\n",
      "        Vector Observation space size (per agent): 37\n",
      "        Number of stacked Vector Observation: 1\n",
      "        Vector Action space type: discrete\n",
      "        Vector Action space size (per agent): 4\n",
      "        Vector Action descriptions: , , , \n"
     ]
    }
   ],
   "source": [
    "# Start the environment\n",
    "env = UnityEnvironment(file_name=\"./Banana_Windows_x86_64/Banana.exe\", no_graphics=True)"
   ]
  },
  {
   "cell_type": "code",
   "execution_count": 3,
   "metadata": {},
   "outputs": [],
   "source": [
    "# get the default brain\n",
    "brain_name = env.brain_names[0]\n",
    "brain = env.brains[brain_name]\n",
    "# print(brain_name)"
   ]
  },
  {
   "cell_type": "markdown",
   "metadata": {},
   "source": [
    "# Network training code\n",
    "This should be moved to separate file."
   ]
  },
  {
   "cell_type": "code",
   "execution_count": 8,
   "metadata": {},
   "outputs": [],
   "source": [
    "def train_dqn(num_episodes=100, max_t=1000, eps_start=1.0, eps_end=0.01, eps_decay=0.995):\n",
    "    \"\"\"\n",
    "    Deep Q-Learning.\n",
    "    TODO: move to own trainer file.\n",
    "    \"\"\"\n",
    "    scores = []\n",
    "    scores_window = deque(maxlen=100)\n",
    "    eps = eps_start\n",
    "    for episode in range(1, num_episodes+1):\n",
    "        env_info = env.reset()[brain_name]\n",
    "        state = env_info.vector_observations[0] # reset environment for new episode\n",
    "        score = 0 # reset score for current episode\n",
    "        for t in range(max_t):\n",
    "            # choose action, execute it, and get the reward, next_state\n",
    "            action = agent.act(state, eps)\n",
    "            env_info = env.step(action)[brain_name]\n",
    "            next_state = env_info.vector_observations[0]\n",
    "            reward = env_info.rewards[0]\n",
    "            done = env_info.local_done[0]\n",
    "            # next_state, reward, done, _ = pass\n",
    "            agent.step(state, action, reward, next_state, done)\n",
    "            state = next_state\n",
    "            score += reward\n",
    "            if done:\n",
    "                break\n",
    "        scores_window.append(score)\n",
    "        scores.append(score)\n",
    "        eps = max(eps_end, eps_decay*eps)\n",
    "        if episode % 10 == 0:\n",
    "            print('\\rEpisode {}\\tAverage Score: {:.2f}'.format(episode, np.mean(scores_window)))\n",
    "    return scores"
   ]
  },
  {
   "cell_type": "code",
   "execution_count": 5,
   "metadata": {},
   "outputs": [],
   "source": [
    "# metadata\n",
    "state_size = 37\n",
    "action_size = 4"
   ]
  },
  {
   "cell_type": "markdown",
   "metadata": {},
   "source": [
    "# Run some timing tests for default fully connected network\n",
    "Looks like (perhaps not surprisingly) that CPU is actually faster. Using headless mode saves about 70sec of time per 100 iterations."
   ]
  },
  {
   "cell_type": "code",
   "execution_count": 6,
   "metadata": {},
   "outputs": [
    {
     "name": "stdout",
     "output_type": "stream",
     "text": [
      "cuda:0\n",
      "Episode 100\tAverage Score: 0.75\n",
      "148.87517666816711\n"
     ]
    }
   ],
   "source": [
    "import time\n",
    "start = time.time()\n",
    "from dql.agent import Agent\n",
    "agent = Agent(state_size, action_size, 1234, use_gpu=True)\n",
    "print(agent.device)\n",
    "scores = train_dqn()\n",
    "print(time.time() - start)"
   ]
  },
  {
   "cell_type": "code",
   "execution_count": 7,
   "metadata": {},
   "outputs": [
    {
     "name": "stdout",
     "output_type": "stream",
     "text": [
      "cpu\n",
      "Episode 100\tAverage Score: 0.46\n",
      "82.20317220687866\n"
     ]
    }
   ],
   "source": [
    "import time\n",
    "start = time.time()\n",
    "from dql.agent import Agent\n",
    "agent = Agent(state_size, action_size, 1234, use_gpu=False)\n",
    "print(agent.device)\n",
    "scores = train_dqn()\n",
    "print(time.time() - start)"
   ]
  },
  {
   "cell_type": "markdown",
   "metadata": {},
   "source": [
    "# Let's do actual testing run with more episodes..."
   ]
  },
  {
   "cell_type": "code",
   "execution_count": 9,
   "metadata": {},
   "outputs": [],
   "source": [
    "agent = Agent(state_size, action_size, 1234, use_gpu=False)"
   ]
  },
  {
   "cell_type": "code",
   "execution_count": 10,
   "metadata": {},
   "outputs": [
    {
     "name": "stdout",
     "output_type": "stream",
     "text": [
      "Episode 10\tAverage Score: -0.20\n",
      "Episode 20\tAverage Score: 0.05\n",
      "Episode 30\tAverage Score: -0.07\n",
      "Episode 40\tAverage Score: -0.07\n",
      "Episode 50\tAverage Score: -0.16\n",
      "Episode 60\tAverage Score: -0.08\n",
      "Episode 70\tAverage Score: -0.09\n",
      "Episode 80\tAverage Score: -0.06\n",
      "Episode 90\tAverage Score: -0.06\n",
      "Episode 100\tAverage Score: 0.08\n",
      "Episode 110\tAverage Score: 0.29\n",
      "Episode 120\tAverage Score: 0.38\n",
      "Episode 130\tAverage Score: 0.55\n",
      "Episode 140\tAverage Score: 0.95\n",
      "Episode 150\tAverage Score: 1.29\n",
      "Episode 160\tAverage Score: 1.59\n",
      "Episode 170\tAverage Score: 1.99\n",
      "Episode 180\tAverage Score: 2.46\n",
      "Episode 190\tAverage Score: 2.95\n",
      "Episode 200\tAverage Score: 3.53\n",
      "Episode 210\tAverage Score: 3.86\n",
      "Episode 220\tAverage Score: 4.28\n",
      "Episode 230\tAverage Score: 4.68\n",
      "Episode 240\tAverage Score: 4.80\n",
      "Episode 250\tAverage Score: 5.15\n",
      "Episode 260\tAverage Score: 5.69\n",
      "Episode 270\tAverage Score: 6.00\n",
      "Episode 280\tAverage Score: 6.11\n",
      "Episode 290\tAverage Score: 6.40\n",
      "Episode 300\tAverage Score: 6.56\n",
      "Episode 310\tAverage Score: 6.86\n",
      "Episode 320\tAverage Score: 7.30\n",
      "Episode 330\tAverage Score: 7.65\n",
      "Episode 340\tAverage Score: 8.21\n",
      "Episode 350\tAverage Score: 8.82\n",
      "Episode 360\tAverage Score: 8.86\n",
      "Episode 370\tAverage Score: 9.44\n",
      "Episode 380\tAverage Score: 9.84\n",
      "Episode 390\tAverage Score: 10.29\n",
      "Episode 400\tAverage Score: 10.40\n",
      "Episode 410\tAverage Score: 10.92\n",
      "Episode 420\tAverage Score: 11.28\n",
      "Episode 430\tAverage Score: 11.81\n",
      "Episode 440\tAverage Score: 11.76\n",
      "Episode 450\tAverage Score: 11.77\n",
      "Episode 460\tAverage Score: 12.20\n",
      "Episode 470\tAverage Score: 12.27\n",
      "Episode 480\tAverage Score: 12.49\n",
      "Episode 490\tAverage Score: 12.67\n",
      "Episode 500\tAverage Score: 12.97\n",
      "Episode 510\tAverage Score: 12.73\n",
      "Episode 520\tAverage Score: 12.92\n",
      "Episode 530\tAverage Score: 12.86\n",
      "Episode 540\tAverage Score: 13.42\n",
      "Episode 550\tAverage Score: 13.67\n",
      "Episode 560\tAverage Score: 13.73\n",
      "Episode 570\tAverage Score: 13.91\n",
      "Episode 580\tAverage Score: 14.14\n",
      "Episode 590\tAverage Score: 14.17\n",
      "Episode 600\tAverage Score: 14.33\n",
      "Episode 610\tAverage Score: 14.61\n",
      "Episode 620\tAverage Score: 14.62\n",
      "Episode 630\tAverage Score: 15.07\n",
      "Episode 640\tAverage Score: 15.15\n",
      "Episode 650\tAverage Score: 15.18\n",
      "Episode 660\tAverage Score: 15.46\n",
      "Episode 670\tAverage Score: 15.24\n",
      "Episode 680\tAverage Score: 15.50\n",
      "Episode 690\tAverage Score: 15.82\n",
      "Episode 700\tAverage Score: 15.72\n",
      "Episode 710\tAverage Score: 15.82\n",
      "Episode 720\tAverage Score: 15.83\n",
      "Episode 730\tAverage Score: 15.62\n",
      "Episode 740\tAverage Score: 15.48\n",
      "Episode 750\tAverage Score: 15.54\n",
      "Episode 760\tAverage Score: 15.68\n",
      "Episode 770\tAverage Score: 15.86\n",
      "Episode 780\tAverage Score: 15.59\n",
      "Episode 790\tAverage Score: 15.45\n",
      "Episode 800\tAverage Score: 15.89\n",
      "Episode 810\tAverage Score: 16.05\n",
      "Episode 820\tAverage Score: 16.10\n",
      "Episode 830\tAverage Score: 15.94\n",
      "Episode 840\tAverage Score: 15.92\n",
      "Episode 850\tAverage Score: 15.89\n",
      "Episode 860\tAverage Score: 15.75\n",
      "Episode 870\tAverage Score: 15.90\n",
      "Episode 880\tAverage Score: 16.09\n",
      "Episode 890\tAverage Score: 16.20\n",
      "Episode 900\tAverage Score: 16.00\n",
      "Episode 910\tAverage Score: 15.78\n",
      "Episode 920\tAverage Score: 15.96\n",
      "Episode 930\tAverage Score: 16.07\n",
      "Episode 940\tAverage Score: 16.03\n",
      "Episode 950\tAverage Score: 15.91\n",
      "Episode 960\tAverage Score: 15.76\n",
      "Episode 970\tAverage Score: 15.56\n",
      "Episode 980\tAverage Score: 15.49\n",
      "Episode 990\tAverage Score: 15.26\n",
      "Episode 1000\tAverage Score: 15.22\n",
      "Episode 1010\tAverage Score: 15.51\n",
      "Episode 1020\tAverage Score: 15.25\n",
      "Episode 1030\tAverage Score: 15.36\n",
      "Episode 1040\tAverage Score: 15.71\n",
      "Episode 1050\tAverage Score: 15.80\n",
      "Episode 1060\tAverage Score: 15.81\n",
      "Episode 1070\tAverage Score: 16.04\n",
      "Episode 1080\tAverage Score: 16.27\n",
      "Episode 1090\tAverage Score: 16.30\n",
      "Episode 1100\tAverage Score: 16.35\n",
      "Episode 1110\tAverage Score: 16.25\n",
      "Episode 1120\tAverage Score: 16.42\n",
      "Episode 1130\tAverage Score: 16.57\n",
      "Episode 1140\tAverage Score: 16.36\n",
      "Episode 1150\tAverage Score: 16.39\n",
      "Episode 1160\tAverage Score: 16.26\n",
      "Episode 1170\tAverage Score: 16.31\n",
      "Episode 1180\tAverage Score: 16.35\n",
      "Episode 1190\tAverage Score: 16.13\n",
      "Episode 1200\tAverage Score: 16.32\n",
      "Episode 1210\tAverage Score: 16.42\n",
      "Episode 1220\tAverage Score: 16.31\n",
      "Episode 1230\tAverage Score: 16.08\n",
      "Episode 1240\tAverage Score: 15.81\n",
      "Episode 1250\tAverage Score: 15.89\n",
      "Episode 1260\tAverage Score: 15.97\n",
      "Episode 1270\tAverage Score: 15.80\n",
      "Episode 1280\tAverage Score: 15.49\n",
      "Episode 1290\tAverage Score: 15.48\n",
      "Episode 1300\tAverage Score: 15.24\n",
      "Episode 1310\tAverage Score: 15.04\n",
      "Episode 1320\tAverage Score: 14.85\n",
      "Episode 1330\tAverage Score: 14.86\n",
      "Episode 1340\tAverage Score: 15.00\n",
      "Episode 1350\tAverage Score: 14.88\n",
      "Episode 1360\tAverage Score: 15.04\n",
      "Episode 1370\tAverage Score: 14.73\n",
      "Episode 1380\tAverage Score: 14.70\n",
      "Episode 1390\tAverage Score: 14.89\n",
      "Episode 1400\tAverage Score: 14.72\n",
      "Episode 1410\tAverage Score: 14.54\n",
      "Episode 1420\tAverage Score: 14.59\n",
      "Episode 1430\tAverage Score: 14.33\n",
      "Episode 1440\tAverage Score: 14.56\n",
      "Episode 1450\tAverage Score: 14.70\n",
      "Episode 1460\tAverage Score: 14.64\n",
      "Episode 1470\tAverage Score: 15.16\n",
      "Episode 1480\tAverage Score: 15.17\n",
      "Episode 1490\tAverage Score: 15.30\n",
      "Episode 1500\tAverage Score: 15.58\n",
      "Episode 1510\tAverage Score: 15.72\n",
      "Episode 1520\tAverage Score: 15.96\n",
      "Episode 1530\tAverage Score: 16.17\n",
      "Episode 1540\tAverage Score: 16.18\n",
      "Episode 1550\tAverage Score: 16.10\n",
      "Episode 1560\tAverage Score: 16.28\n",
      "Episode 1570\tAverage Score: 16.04\n",
      "Episode 1580\tAverage Score: 16.33\n",
      "Episode 1590\tAverage Score: 16.22\n",
      "Episode 1600\tAverage Score: 16.17\n",
      "Episode 1610\tAverage Score: 16.46\n",
      "Episode 1620\tAverage Score: 16.33\n",
      "Episode 1630\tAverage Score: 16.36\n",
      "Episode 1640\tAverage Score: 16.07\n",
      "Episode 1650\tAverage Score: 16.25\n",
      "Episode 1660\tAverage Score: 16.20\n",
      "Episode 1670\tAverage Score: 16.34\n",
      "Episode 1680\tAverage Score: 16.39\n",
      "Episode 1690\tAverage Score: 16.46\n",
      "Episode 1700\tAverage Score: 16.63\n",
      "Episode 1710\tAverage Score: 16.61\n",
      "Episode 1720\tAverage Score: 16.85\n",
      "Episode 1730\tAverage Score: 16.91\n",
      "Episode 1740\tAverage Score: 17.11\n",
      "Episode 1750\tAverage Score: 16.92\n",
      "Episode 1760\tAverage Score: 17.01\n",
      "Episode 1770\tAverage Score: 17.04\n",
      "Episode 1780\tAverage Score: 16.79\n",
      "Episode 1790\tAverage Score: 16.82\n",
      "Episode 1800\tAverage Score: 16.64\n",
      "Episode 1810\tAverage Score: 16.51\n",
      "Episode 1820\tAverage Score: 16.33\n",
      "Episode 1830\tAverage Score: 16.42\n",
      "Episode 1840\tAverage Score: 16.56\n",
      "Episode 1850\tAverage Score: 16.71\n",
      "Episode 1860\tAverage Score: 16.39\n",
      "Episode 1870\tAverage Score: 16.32\n",
      "Episode 1880\tAverage Score: 16.17\n",
      "Episode 1890\tAverage Score: 16.30\n",
      "Episode 1900\tAverage Score: 16.34\n",
      "Episode 1910\tAverage Score: 16.34\n",
      "Episode 1920\tAverage Score: 16.11\n",
      "Episode 1930\tAverage Score: 15.71\n",
      "Episode 1940\tAverage Score: 15.53\n",
      "Episode 1950\tAverage Score: 15.41\n",
      "Episode 1960\tAverage Score: 15.43\n",
      "Episode 1970\tAverage Score: 15.43\n",
      "Episode 1980\tAverage Score: 15.75\n",
      "Episode 1990\tAverage Score: 15.61\n",
      "Episode 2000\tAverage Score: 15.62\n"
     ]
    }
   ],
   "source": [
    "scores = train_dqn(num_episodes=2000)"
   ]
  },
  {
   "cell_type": "code",
   "execution_count": 11,
   "metadata": {},
   "outputs": [
    {
     "data": {
      "text/plain": [
       "[<matplotlib.lines.Line2D at 0x24106829c88>]"
      ]
     },
     "execution_count": 11,
     "metadata": {},
     "output_type": "execute_result"
    },
    {
     "data": {
      "image/png": "[encoded data removed]",
      "text/plain": [
       "<matplotlib.figure.Figure at 0x24138728ba8>"
      ]
     },
     "metadata": {
      "needs_background": "light"
     },
     "output_type": "display_data"
    }
   ],
   "source": [
    "plt.plot(scores)"
   ]
  },
  {
   "cell_type": "code",
   "execution_count": 12,
   "metadata": {},
   "outputs": [],
   "source": [
    "torch.save(agent.dqn_local.state_dict(), 'dql/models/simple_dqn_2000_iters.pth')"
   ]
  },
  {
   "cell_type": "code",
   "execution_count": 15,
   "metadata": {},
   "outputs": [],
   "source": [
    "env.close()"
   ]
  },
  {
   "cell_type": "markdown",
   "metadata": {},
   "source": [
    "# Watch the agent play"
   ]
  },
  {
   "cell_type": "code",
   "execution_count": null,
   "metadata": {},
   "outputs": [],
   "source": [
    "agent.dqn_local.load_state_dict(torch.load('dql/models/checkpoint.pth'))"
   ]
  },
  {
   "cell_type": "code",
   "execution_count": 14,
   "metadata": {},
   "outputs": [
    {
     "name": "stderr",
     "output_type": "stream",
     "text": [
      "INFO:unityagents:\n",
      "'Academy' started successfully!\n",
      "Unity Academy name: Academy\n",
      "        Number of Brains: 1\n",
      "        Number of External Brains : 1\n",
      "        Lesson number : 0\n",
      "        Reset Parameters :\n",
      "\t\t\n",
      "Unity brain name: BananaBrain\n",
      "        Number of Visual Observations (per agent): 0\n",
      "        Vector Observation space type: continuous\n",
      "        Vector Observation space size (per agent): 37\n",
      "        Number of stacked Vector Observation: 1\n",
      "        Vector Action space type: discrete\n",
      "        Vector Action space size (per agent): 4\n",
      "        Vector Action descriptions: , , , \n"
     ]
    },
    {
     "name": "stdout",
     "output_type": "stream",
     "text": [
      "Score: 16.0\n"
     ]
    }
   ],
   "source": [
    "# with graphics\n",
    "env = UnityEnvironment(file_name=\"./Banana_Windows_x86_64/Banana.exe\")\n",
    "\n",
    "\n",
    "env_info = env.reset(train_mode=False)[brain_name] # reset the environment\n",
    "state = env_info.vector_observations[0]            # get the current state\n",
    "score = 0                                          # initialize the score\n",
    "while True:\n",
    "    time.sleep(float(0.2))\n",
    "    action = agent.act(state)                      # select an action\n",
    "    env_info = env.step(action)[brain_name]        # send the action to the environment\n",
    "    next_state = env_info.vector_observations[0]   # get the next state\n",
    "    reward = env_info.rewards[0]                   # get the reward\n",
    "    done = env_info.local_done[0]                  # see if episode has finished\n",
    "    score += reward                                # update the score\n",
    "    state = next_state                             # roll over the state to next time step\n",
    "    if done:                                       # exit loop if episode finished\n",
    "        break\n",
    "    \n",
    "print(\"Score: {}\".format(score))"
   ]
  },
  {
   "cell_type": "code",
   "execution_count": 27,
   "metadata": {},
   "outputs": [
    {
     "data": {
      "text/plain": [
       "<unityagents.environment.UnityEnvironment at 0x1e113586400>"
      ]
     },
     "execution_count": 27,
     "metadata": {},
     "output_type": "execute_result"
    }
   ],
   "source": [
    "env"
   ]
  },
  {
   "cell_type": "code",
   "execution_count": 47,
   "metadata": {},
   "outputs": [],
   "source": [
    "env.close()"
   ]
  },
  {
   "cell_type": "code",
   "execution_count": null,
   "metadata": {},
   "outputs": [],
   "source": []
  }
 ],
 "metadata": {
  "kernelspec": {
   "display_name": "Python 3",
   "language": "python",
   "name": "python3"
  },
  "language_info": {
   "codemirror_mode": {
    "name": "ipython",
    "version": 3
   },
   "file_extension": ".py",
   "mimetype": "text/x-python",
   "name": "python",
   "nbconvert_exporter": "python",
   "pygments_lexer": "ipython3",
   "version": "3.6.4"
  }
 },
 "nbformat": 4,
 "nbformat_minor": 2
}
