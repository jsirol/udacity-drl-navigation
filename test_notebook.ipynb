{
 "cells": [
  {
   "cell_type": "markdown",
   "metadata": {},
   "source": [
    "# Training the model\n",
    "In this notebook, we train the model."
   ]
  },
  {
   "cell_type": "code",
   "execution_count": 1,
   "metadata": {},
   "outputs": [],
   "source": [
    "from unityagents import UnityEnvironment\n",
    "import numpy as np\n",
    "\n",
    "import torch\n",
    "from collections import deque\n",
    "import matplotlib.pyplot as plt\n",
    "%matplotlib inline"
   ]
  },
  {
   "cell_type": "code",
   "execution_count": 12,
   "metadata": {},
   "outputs": [
    {
     "name": "stderr",
     "output_type": "stream",
     "text": [
      "INFO:unityagents:\n",
      "'Academy' started successfully!\n",
      "Unity Academy name: Academy\n",
      "        Number of Brains: 1\n",
      "        Number of External Brains : 1\n",
      "        Lesson number : 0\n",
      "        Reset Parameters :\n",
      "\t\t\n",
      "Unity brain name: BananaBrain\n",
      "        Number of Visual Observations (per agent): 0\n",
      "        Vector Observation space type: continuous\n",
      "        Vector Observation space size (per agent): 37\n",
      "        Number of stacked Vector Observation: 1\n",
      "        Vector Action space type: discrete\n",
      "        Vector Action space size (per agent): 4\n",
      "        Vector Action descriptions: , , , \n"
     ]
    }
   ],
   "source": [
    "# Start the environment\n",
    "env = UnityEnvironment(file_name=\"./Banana_Windows_x86_64/Banana.exe\", no_graphics=True)"
   ]
  },
  {
   "cell_type": "code",
   "execution_count": 13,
   "metadata": {},
   "outputs": [],
   "source": [
    "env.close()"
   ]
  },
  {
   "cell_type": "code",
   "execution_count": 3,
   "metadata": {},
   "outputs": [],
   "source": [
    "# get the default brain\n",
    "brain_name = env.brain_names[0]\n",
    "brain = env.brains[brain_name]\n",
    "# print(brain_name)"
   ]
  },
  {
   "cell_type": "markdown",
   "metadata": {},
   "source": [
    "# Network training code\n",
    "This should be moved to separate file."
   ]
  },
  {
   "cell_type": "code",
   "execution_count": 4,
   "metadata": {},
   "outputs": [],
   "source": [
    "def train_dqn(num_episodes=100, max_t=1000, eps_start=1.0, eps_end=0.01, eps_decay=0.995):\n",
    "    \"\"\"\n",
    "    Deep Q-Learning.\n",
    "    TODO: move to own trainer file.\n",
    "    \"\"\"\n",
    "    scores = []\n",
    "    scores_window = deque(maxlen=100)\n",
    "    eps = eps_start\n",
    "    for episode in range(1, num_episodes+1):\n",
    "        env_info = env.reset()[brain_name]\n",
    "        state = env_info.vector_observations[0] # reset environment for new episode\n",
    "        score = 0 # reset score for current episode\n",
    "        for t in range(max_t):\n",
    "            # choose action, execute it, and get the reward, next_state\n",
    "            action = agent.act(state, eps)\n",
    "            env_info = env.step(action)[brain_name]\n",
    "            next_state = env_info.vector_observations[0]\n",
    "            reward = env_info.rewards[0]\n",
    "            done = env_info.local_done[0]\n",
    "            # next_state, reward, done, _ = pass\n",
    "            agent.step(state, action, reward, next_state, done)\n",
    "            state = next_state\n",
    "            score += reward\n",
    "            if done:\n",
    "                break\n",
    "        scores_window.append(score)\n",
    "        scores.append(score)\n",
    "        eps = max(eps_end, eps_decay*eps)\n",
    "        if episode % 10 == 0:\n",
    "            print('\\rEpisode {}\\tAverage Score: {:.2f}'.format(episode, np.mean(scores_window)))\n",
    "    return scores"
   ]
  },
  {
   "cell_type": "code",
   "execution_count": 5,
   "metadata": {},
   "outputs": [],
   "source": [
    "# metadata\n",
    "state_size = 37\n",
    "action_size = 4"
   ]
  },
  {
   "cell_type": "code",
   "execution_count": null,
   "metadata": {},
   "outputs": [],
   "source": []
  },
  {
   "cell_type": "markdown",
   "metadata": {},
   "source": [
    "# Run some timing tests for default fully connected network\n",
    "Looks like (perhaps not surprisingly) that CPU is actually faster. Using headless mode saves about 70sec of time per 100 iterations."
   ]
  },
  {
   "cell_type": "code",
   "execution_count": 6,
   "metadata": {},
   "outputs": [
    {
     "name": "stdout",
     "output_type": "stream",
     "text": [
      "cuda:0\n",
      "Episode 100\tAverage Score: 0.75\n",
      "148.87517666816711\n"
     ]
    }
   ],
   "source": [
    "import time\n",
    "start = time.time()\n",
    "from dql.agent import Agent\n",
    "agent = Agent(state_size, action_size, 1234, use_gpu=True)\n",
    "print(agent.device)\n",
    "scores = train_dqn()\n",
    "print(time.time() - start)"
   ]
  },
  {
   "cell_type": "code",
   "execution_count": 7,
   "metadata": {},
   "outputs": [
    {
     "name": "stdout",
     "output_type": "stream",
     "text": [
      "cpu\n",
      "Episode 100\tAverage Score: 0.46\n",
      "82.20317220687866\n"
     ]
    }
   ],
   "source": [
    "import time\n",
    "start = time.time()\n",
    "from dql.agent import Agent\n",
    "agent = Agent(state_size, action_size, 1234, use_gpu=False)\n",
    "print(agent.device)\n",
    "scores = train_dqn()\n",
    "print(time.time() - start)"
   ]
  },
  {
   "cell_type": "markdown",
   "metadata": {},
   "source": [
    "# Let's do actual testing run with more episodes..."
   ]
  },
  {
   "cell_type": "code",
   "execution_count": 8,
   "metadata": {},
   "outputs": [],
   "source": [
    "from dql.agent import Agent"
   ]
  },
  {
   "cell_type": "code",
   "execution_count": 9,
   "metadata": {},
   "outputs": [],
   "source": [
    "agent = Agent(state_size, action_size, 1234, use_gpu=False)"
   ]
  },
  {
   "cell_type": "code",
   "execution_count": 10,
   "metadata": {},
   "outputs": [
    {
     "name": "stdout",
     "output_type": "stream",
     "text": [
      "Episode 10\tAverage Score: -0.20\n",
      "Episode 20\tAverage Score: 0.05\n",
      "Episode 30\tAverage Score: -0.07\n",
      "Episode 40\tAverage Score: -0.07\n",
      "Episode 50\tAverage Score: -0.16\n",
      "Episode 60\tAverage Score: -0.08\n",
      "Episode 70\tAverage Score: -0.09\n",
      "Episode 80\tAverage Score: -0.06\n",
      "Episode 90\tAverage Score: -0.06\n",
      "Episode 100\tAverage Score: 0.08\n",
      "Episode 110\tAverage Score: 0.29\n",
      "Episode 120\tAverage Score: 0.38\n",
      "Episode 130\tAverage Score: 0.55\n",
      "Episode 140\tAverage Score: 0.95\n",
      "Episode 150\tAverage Score: 1.29\n",
      "Episode 160\tAverage Score: 1.59\n",
      "Episode 170\tAverage Score: 1.99\n",
      "Episode 180\tAverage Score: 2.46\n",
      "Episode 190\tAverage Score: 2.95\n",
      "Episode 200\tAverage Score: 3.53\n",
      "Episode 210\tAverage Score: 3.86\n",
      "Episode 220\tAverage Score: 4.28\n",
      "Episode 230\tAverage Score: 4.68\n",
      "Episode 240\tAverage Score: 4.80\n",
      "Episode 250\tAverage Score: 5.15\n",
      "Episode 260\tAverage Score: 5.69\n",
      "Episode 270\tAverage Score: 6.00\n",
      "Episode 280\tAverage Score: 6.11\n",
      "Episode 290\tAverage Score: 6.40\n",
      "Episode 300\tAverage Score: 6.56\n",
      "Episode 310\tAverage Score: 6.86\n",
      "Episode 320\tAverage Score: 7.30\n",
      "Episode 330\tAverage Score: 7.65\n",
      "Episode 340\tAverage Score: 8.21\n",
      "Episode 350\tAverage Score: 8.82\n",
      "Episode 360\tAverage Score: 8.86\n",
      "Episode 370\tAverage Score: 9.44\n",
      "Episode 380\tAverage Score: 9.84\n",
      "Episode 390\tAverage Score: 10.29\n",
      "Episode 400\tAverage Score: 10.40\n",
      "Episode 410\tAverage Score: 10.92\n",
      "Episode 420\tAverage Score: 11.28\n",
      "Episode 430\tAverage Score: 11.81\n",
      "Episode 440\tAverage Score: 11.76\n",
      "Episode 450\tAverage Score: 11.77\n",
      "Episode 460\tAverage Score: 12.20\n",
      "Episode 470\tAverage Score: 12.27\n",
      "Episode 480\tAverage Score: 12.49\n",
      "Episode 490\tAverage Score: 12.67\n",
      "Episode 500\tAverage Score: 12.97\n",
      "Episode 510\tAverage Score: 12.73\n",
      "Episode 520\tAverage Score: 12.92\n",
      "Episode 530\tAverage Score: 12.86\n",
      "Episode 540\tAverage Score: 13.42\n",
      "Episode 550\tAverage Score: 13.67\n",
      "Episode 560\tAverage Score: 13.73\n",
      "Episode 570\tAverage Score: 13.91\n",
      "Episode 580\tAverage Score: 14.14\n",
      "Episode 590\tAverage Score: 14.17\n",
      "Episode 600\tAverage Score: 14.33\n",
      "Episode 610\tAverage Score: 14.61\n",
      "Episode 620\tAverage Score: 14.62\n",
      "Episode 630\tAverage Score: 15.07\n",
      "Episode 640\tAverage Score: 15.15\n",
      "Episode 650\tAverage Score: 15.18\n",
      "Episode 660\tAverage Score: 15.46\n",
      "Episode 670\tAverage Score: 15.24\n",
      "Episode 680\tAverage Score: 15.50\n",
      "Episode 690\tAverage Score: 15.82\n",
      "Episode 700\tAverage Score: 15.72\n",
      "Episode 710\tAverage Score: 15.82\n",
      "Episode 720\tAverage Score: 15.83\n",
      "Episode 730\tAverage Score: 15.62\n",
      "Episode 740\tAverage Score: 15.48\n",
      "Episode 750\tAverage Score: 15.54\n",
      "Episode 760\tAverage Score: 15.68\n",
      "Episode 770\tAverage Score: 15.86\n",
      "Episode 780\tAverage Score: 15.59\n",
      "Episode 790\tAverage Score: 15.45\n",
      "Episode 800\tAverage Score: 15.89\n",
      "Episode 810\tAverage Score: 16.05\n",
      "Episode 820\tAverage Score: 16.10\n",
      "Episode 830\tAverage Score: 15.94\n",
      "Episode 840\tAverage Score: 15.92\n",
      "Episode 850\tAverage Score: 15.89\n",
      "Episode 860\tAverage Score: 15.75\n",
      "Episode 870\tAverage Score: 15.90\n",
      "Episode 880\tAverage Score: 16.09\n",
      "Episode 890\tAverage Score: 16.20\n",
      "Episode 900\tAverage Score: 16.00\n",
      "Episode 910\tAverage Score: 15.78\n",
      "Episode 920\tAverage Score: 15.96\n",
      "Episode 930\tAverage Score: 16.07\n",
      "Episode 940\tAverage Score: 16.03\n",
      "Episode 950\tAverage Score: 15.91\n",
      "Episode 960\tAverage Score: 15.76\n",
      "Episode 970\tAverage Score: 15.56\n",
      "Episode 980\tAverage Score: 15.49\n",
      "Episode 990\tAverage Score: 15.26\n",
      "Episode 1000\tAverage Score: 15.22\n",
      "Episode 1010\tAverage Score: 15.51\n",
      "Episode 1020\tAverage Score: 15.25\n",
      "Episode 1030\tAverage Score: 15.36\n",
      "Episode 1040\tAverage Score: 15.71\n",
      "Episode 1050\tAverage Score: 15.80\n",
      "Episode 1060\tAverage Score: 15.81\n",
      "Episode 1070\tAverage Score: 16.04\n",
      "Episode 1080\tAverage Score: 16.27\n",
      "Episode 1090\tAverage Score: 16.30\n",
      "Episode 1100\tAverage Score: 16.35\n",
      "Episode 1110\tAverage Score: 16.25\n",
      "Episode 1120\tAverage Score: 16.42\n",
      "Episode 1130\tAverage Score: 16.57\n",
      "Episode 1140\tAverage Score: 16.36\n",
      "Episode 1150\tAverage Score: 16.39\n",
      "Episode 1160\tAverage Score: 16.26\n",
      "Episode 1170\tAverage Score: 16.31\n",
      "Episode 1180\tAverage Score: 16.35\n",
      "Episode 1190\tAverage Score: 16.13\n",
      "Episode 1200\tAverage Score: 16.32\n",
      "Episode 1210\tAverage Score: 16.42\n",
      "Episode 1220\tAverage Score: 16.31\n",
      "Episode 1230\tAverage Score: 16.08\n",
      "Episode 1240\tAverage Score: 15.81\n",
      "Episode 1250\tAverage Score: 15.89\n",
      "Episode 1260\tAverage Score: 15.97\n",
      "Episode 1270\tAverage Score: 15.80\n",
      "Episode 1280\tAverage Score: 15.49\n",
      "Episode 1290\tAverage Score: 15.48\n",
      "Episode 1300\tAverage Score: 15.24\n",
      "Episode 1310\tAverage Score: 15.04\n",
      "Episode 1320\tAverage Score: 14.85\n",
      "Episode 1330\tAverage Score: 14.86\n",
      "Episode 1340\tAverage Score: 15.00\n",
      "Episode 1350\tAverage Score: 14.88\n",
      "Episode 1360\tAverage Score: 15.04\n",
      "Episode 1370\tAverage Score: 14.73\n",
      "Episode 1380\tAverage Score: 14.70\n",
      "Episode 1390\tAverage Score: 14.89\n",
      "Episode 1400\tAverage Score: 14.72\n",
      "Episode 1410\tAverage Score: 14.54\n",
      "Episode 1420\tAverage Score: 14.59\n",
      "Episode 1430\tAverage Score: 14.33\n",
      "Episode 1440\tAverage Score: 14.56\n",
      "Episode 1450\tAverage Score: 14.70\n",
      "Episode 1460\tAverage Score: 14.64\n",
      "Episode 1470\tAverage Score: 15.16\n",
      "Episode 1480\tAverage Score: 15.17\n",
      "Episode 1490\tAverage Score: 15.30\n",
      "Episode 1500\tAverage Score: 15.58\n",
      "Episode 1510\tAverage Score: 15.72\n",
      "Episode 1520\tAverage Score: 15.96\n",
      "Episode 1530\tAverage Score: 16.17\n",
      "Episode 1540\tAverage Score: 16.18\n",
      "Episode 1550\tAverage Score: 16.10\n",
      "Episode 1560\tAverage Score: 16.28\n",
      "Episode 1570\tAverage Score: 16.04\n",
      "Episode 1580\tAverage Score: 16.33\n",
      "Episode 1590\tAverage Score: 16.22\n",
      "Episode 1600\tAverage Score: 16.17\n",
      "Episode 1610\tAverage Score: 16.46\n",
      "Episode 1620\tAverage Score: 16.33\n",
      "Episode 1630\tAverage Score: 16.36\n",
      "Episode 1640\tAverage Score: 16.07\n",
      "Episode 1650\tAverage Score: 16.25\n",
      "Episode 1660\tAverage Score: 16.20\n",
      "Episode 1670\tAverage Score: 16.34\n",
      "Episode 1680\tAverage Score: 16.39\n",
      "Episode 1690\tAverage Score: 16.46\n",
      "Episode 1700\tAverage Score: 16.63\n",
      "Episode 1710\tAverage Score: 16.61\n",
      "Episode 1720\tAverage Score: 16.85\n",
      "Episode 1730\tAverage Score: 16.91\n",
      "Episode 1740\tAverage Score: 17.11\n",
      "Episode 1750\tAverage Score: 16.92\n",
      "Episode 1760\tAverage Score: 17.01\n",
      "Episode 1770\tAverage Score: 17.04\n",
      "Episode 1780\tAverage Score: 16.79\n",
      "Episode 1790\tAverage Score: 16.82\n",
      "Episode 1800\tAverage Score: 16.64\n",
      "Episode 1810\tAverage Score: 16.51\n",
      "Episode 1820\tAverage Score: 16.33\n",
      "Episode 1830\tAverage Score: 16.42\n",
      "Episode 1840\tAverage Score: 16.56\n",
      "Episode 1850\tAverage Score: 16.71\n",
      "Episode 1860\tAverage Score: 16.39\n",
      "Episode 1870\tAverage Score: 16.32\n",
      "Episode 1880\tAverage Score: 16.17\n",
      "Episode 1890\tAverage Score: 16.30\n",
      "Episode 1900\tAverage Score: 16.34\n",
      "Episode 1910\tAverage Score: 16.34\n",
      "Episode 1920\tAverage Score: 16.11\n",
      "Episode 1930\tAverage Score: 15.71\n",
      "Episode 1940\tAverage Score: 15.53\n",
      "Episode 1950\tAverage Score: 15.41\n",
      "Episode 1960\tAverage Score: 15.43\n",
      "Episode 1970\tAverage Score: 15.43\n",
      "Episode 1980\tAverage Score: 15.75\n",
      "Episode 1990\tAverage Score: 15.61\n",
      "Episode 2000\tAverage Score: 15.62\n"
     ]
    }
   ],
   "source": [
    "scores = train_dqn(num_episodes=2000)"
   ]
  },
  {
   "cell_type": "code",
   "execution_count": 8,
   "metadata": {},
   "outputs": [
    {
     "name": "stdout",
     "output_type": "stream",
     "text": [
      "Episode 10\tAverage Score: 0.10\n",
      "Episode 20\tAverage Score: -0.10\n",
      "Episode 30\tAverage Score: -0.23\n",
      "Episode 40\tAverage Score: -0.03\n",
      "Episode 50\tAverage Score: 0.00\n",
      "Episode 60\tAverage Score: 0.32\n",
      "Episode 70\tAverage Score: 0.50\n",
      "Episode 80\tAverage Score: 0.55\n",
      "Episode 90\tAverage Score: 0.60\n",
      "Episode 100\tAverage Score: 0.72\n",
      "Episode 110\tAverage Score: 0.90\n",
      "Episode 120\tAverage Score: 1.04\n",
      "Episode 130\tAverage Score: 1.39\n",
      "Episode 140\tAverage Score: 1.65\n",
      "Episode 150\tAverage Score: 2.14\n",
      "Episode 160\tAverage Score: 2.44\n",
      "Episode 170\tAverage Score: 2.69\n",
      "Episode 180\tAverage Score: 3.14\n",
      "Episode 190\tAverage Score: 3.56\n",
      "Episode 200\tAverage Score: 3.98\n",
      "Episode 210\tAverage Score: 4.35\n",
      "Episode 220\tAverage Score: 4.94\n",
      "Episode 230\tAverage Score: 5.30\n",
      "Episode 240\tAverage Score: 5.75\n",
      "Episode 250\tAverage Score: 5.93\n",
      "Episode 260\tAverage Score: 6.33\n",
      "Episode 270\tAverage Score: 6.67\n",
      "Episode 280\tAverage Score: 7.07\n",
      "Episode 290\tAverage Score: 7.37\n",
      "Episode 300\tAverage Score: 7.76\n",
      "Episode 310\tAverage Score: 8.08\n",
      "Episode 320\tAverage Score: 8.31\n",
      "Episode 330\tAverage Score: 8.54\n",
      "Episode 340\tAverage Score: 8.59\n",
      "Episode 350\tAverage Score: 8.79\n",
      "Episode 360\tAverage Score: 9.03\n",
      "Episode 370\tAverage Score: 9.36\n",
      "Episode 380\tAverage Score: 9.54\n",
      "Episode 390\tAverage Score: 9.65\n",
      "Episode 400\tAverage Score: 9.55\n",
      "Episode 410\tAverage Score: 9.83\n",
      "Episode 420\tAverage Score: 9.99\n",
      "Episode 430\tAverage Score: 10.45\n",
      "Episode 440\tAverage Score: 10.69\n",
      "Episode 450\tAverage Score: 11.14\n",
      "Episode 460\tAverage Score: 11.54\n",
      "Episode 470\tAverage Score: 11.69\n",
      "Episode 480\tAverage Score: 11.97\n",
      "Episode 490\tAverage Score: 12.40\n",
      "Episode 500\tAverage Score: 13.02\n"
     ]
    }
   ],
   "source": [
    "# Double DQN\n",
    "scores = train_dqn(num_episodes=500)"
   ]
  },
  {
   "cell_type": "code",
   "execution_count": 8,
   "metadata": {},
   "outputs": [
    {
     "name": "stdout",
     "output_type": "stream",
     "text": [
      "Episode 10\tAverage Score: -0.50\n",
      "Episode 20\tAverage Score: -0.45\n",
      "Episode 30\tAverage Score: -0.37\n",
      "Episode 40\tAverage Score: -0.12\n",
      "Episode 50\tAverage Score: -0.02\n",
      "Episode 60\tAverage Score: 0.13\n",
      "Episode 70\tAverage Score: 0.37\n",
      "Episode 80\tAverage Score: 0.54\n",
      "Episode 90\tAverage Score: 0.74\n",
      "Episode 100\tAverage Score: 0.86\n",
      "Episode 110\tAverage Score: 1.29\n",
      "Episode 120\tAverage Score: 1.49\n",
      "Episode 130\tAverage Score: 1.80\n",
      "Episode 140\tAverage Score: 2.12\n",
      "Episode 150\tAverage Score: 2.56\n",
      "Episode 160\tAverage Score: 2.80\n",
      "Episode 170\tAverage Score: 3.25\n",
      "Episode 180\tAverage Score: 3.71\n",
      "Episode 190\tAverage Score: 4.19\n",
      "Episode 200\tAverage Score: 4.52\n",
      "Episode 210\tAverage Score: 4.62\n",
      "Episode 220\tAverage Score: 5.28\n",
      "Episode 230\tAverage Score: 5.52\n",
      "Episode 240\tAverage Score: 5.78\n",
      "Episode 250\tAverage Score: 6.02\n",
      "Episode 260\tAverage Score: 6.28\n",
      "Episode 270\tAverage Score: 6.37\n",
      "Episode 280\tAverage Score: 6.41\n",
      "Episode 290\tAverage Score: 6.48\n",
      "Episode 300\tAverage Score: 6.85\n",
      "Episode 310\tAverage Score: 7.10\n",
      "Episode 320\tAverage Score: 7.26\n",
      "Episode 330\tAverage Score: 7.48\n",
      "Episode 340\tAverage Score: 7.92\n",
      "Episode 350\tAverage Score: 8.22\n",
      "Episode 360\tAverage Score: 8.72\n",
      "Episode 370\tAverage Score: 9.17\n",
      "Episode 380\tAverage Score: 9.76\n",
      "Episode 390\tAverage Score: 9.99\n",
      "Episode 400\tAverage Score: 10.36\n",
      "Episode 410\tAverage Score: 10.89\n",
      "Episode 420\tAverage Score: 11.22\n",
      "Episode 430\tAverage Score: 11.66\n",
      "Episode 440\tAverage Score: 11.86\n",
      "Episode 450\tAverage Score: 11.87\n",
      "Episode 460\tAverage Score: 12.29\n",
      "Episode 470\tAverage Score: 12.59\n",
      "Episode 480\tAverage Score: 12.65\n",
      "Episode 490\tAverage Score: 13.13\n",
      "Episode 500\tAverage Score: 13.34\n",
      "Episode 510\tAverage Score: 13.49\n",
      "Episode 520\tAverage Score: 13.58\n",
      "Episode 530\tAverage Score: 13.86\n",
      "Episode 540\tAverage Score: 14.05\n",
      "Episode 550\tAverage Score: 14.42\n",
      "Episode 560\tAverage Score: 14.38\n",
      "Episode 570\tAverage Score: 14.23\n",
      "Episode 580\tAverage Score: 14.38\n",
      "Episode 590\tAverage Score: 14.45\n",
      "Episode 600\tAverage Score: 14.28\n",
      "Episode 610\tAverage Score: 14.25\n",
      "Episode 620\tAverage Score: 14.31\n",
      "Episode 630\tAverage Score: 14.50\n",
      "Episode 640\tAverage Score: 14.76\n",
      "Episode 650\tAverage Score: 15.05\n",
      "Episode 660\tAverage Score: 15.09\n",
      "Episode 670\tAverage Score: 15.28\n",
      "Episode 680\tAverage Score: 15.42\n",
      "Episode 690\tAverage Score: 15.47\n",
      "Episode 700\tAverage Score: 15.45\n",
      "Episode 710\tAverage Score: 15.76\n",
      "Episode 720\tAverage Score: 15.99\n",
      "Episode 730\tAverage Score: 15.95\n",
      "Episode 740\tAverage Score: 15.88\n",
      "Episode 750\tAverage Score: 15.73\n",
      "Episode 760\tAverage Score: 15.95\n",
      "Episode 770\tAverage Score: 16.07\n",
      "Episode 780\tAverage Score: 15.82\n",
      "Episode 790\tAverage Score: 15.85\n",
      "Episode 800\tAverage Score: 16.34\n",
      "Episode 810\tAverage Score: 16.36\n",
      "Episode 820\tAverage Score: 16.40\n",
      "Episode 830\tAverage Score: 16.59\n",
      "Episode 840\tAverage Score: 16.49\n",
      "Episode 850\tAverage Score: 16.65\n",
      "Episode 860\tAverage Score: 16.45\n",
      "Episode 870\tAverage Score: 16.63\n",
      "Episode 880\tAverage Score: 17.00\n",
      "Episode 890\tAverage Score: 16.81\n",
      "Episode 900\tAverage Score: 16.62\n",
      "Episode 910\tAverage Score: 16.29\n",
      "Episode 920\tAverage Score: 16.20\n",
      "Episode 930\tAverage Score: 16.00\n",
      "Episode 940\tAverage Score: 16.12\n",
      "Episode 950\tAverage Score: 16.03\n",
      "Episode 960\tAverage Score: 16.10\n",
      "Episode 970\tAverage Score: 15.98\n",
      "Episode 980\tAverage Score: 15.62\n",
      "Episode 990\tAverage Score: 15.87\n",
      "Episode 1000\tAverage Score: 15.66\n"
     ]
    }
   ],
   "source": [
    "# Double Dueling DQN\n",
    "scores = train_dqn(num_episodes=1000)"
   ]
  },
  {
   "cell_type": "code",
   "execution_count": 10,
   "metadata": {},
   "outputs": [
    {
     "name": "stdout",
     "output_type": "stream",
     "text": [
      "Episode 10\tAverage Score: -0.50\n",
      "Episode 20\tAverage Score: -0.20\n",
      "Episode 30\tAverage Score: -0.27\n",
      "Episode 40\tAverage Score: -0.15\n",
      "Episode 50\tAverage Score: 0.02\n",
      "Episode 60\tAverage Score: 0.27\n",
      "Episode 70\tAverage Score: 0.51\n",
      "Episode 80\tAverage Score: 0.71\n",
      "Episode 90\tAverage Score: 0.84\n",
      "Episode 100\tAverage Score: 0.96\n",
      "Episode 110\tAverage Score: 1.36\n",
      "Episode 120\tAverage Score: 1.72\n",
      "Episode 130\tAverage Score: 2.08\n",
      "Episode 140\tAverage Score: 2.51\n",
      "Episode 150\tAverage Score: 2.86\n",
      "Episode 160\tAverage Score: 3.33\n",
      "Episode 170\tAverage Score: 3.55\n",
      "Episode 180\tAverage Score: 3.82\n",
      "Episode 190\tAverage Score: 4.27\n",
      "Episode 200\tAverage Score: 4.77\n",
      "Episode 210\tAverage Score: 5.10\n",
      "Episode 220\tAverage Score: 5.36\n",
      "Episode 230\tAverage Score: 5.70\n",
      "Episode 240\tAverage Score: 5.88\n",
      "Episode 250\tAverage Score: 6.21\n",
      "Episode 260\tAverage Score: 6.34\n",
      "Episode 270\tAverage Score: 6.79\n",
      "Episode 280\tAverage Score: 7.05\n",
      "Episode 290\tAverage Score: 7.40\n",
      "Episode 300\tAverage Score: 7.41\n",
      "Episode 310\tAverage Score: 7.84\n",
      "Episode 320\tAverage Score: 8.18\n",
      "Episode 330\tAverage Score: 8.74\n",
      "Episode 340\tAverage Score: 9.00\n",
      "Episode 350\tAverage Score: 9.21\n",
      "Episode 360\tAverage Score: 9.27\n",
      "Episode 370\tAverage Score: 9.57\n",
      "Episode 380\tAverage Score: 10.09\n",
      "Episode 390\tAverage Score: 10.19\n",
      "Episode 400\tAverage Score: 10.60\n",
      "Episode 410\tAverage Score: 10.55\n",
      "Episode 420\tAverage Score: 10.60\n",
      "Episode 430\tAverage Score: 10.70\n",
      "Episode 440\tAverage Score: 11.16\n",
      "Episode 450\tAverage Score: 11.65\n",
      "Episode 460\tAverage Score: 12.07\n",
      "Episode 470\tAverage Score: 12.06\n",
      "Episode 480\tAverage Score: 12.17\n",
      "Episode 490\tAverage Score: 12.31\n",
      "Episode 500\tAverage Score: 12.39\n",
      "Episode 510\tAverage Score: 12.82\n",
      "Episode 520\tAverage Score: 13.03\n",
      "Episode 530\tAverage Score: 13.14\n",
      "Episode 540\tAverage Score: 13.03\n",
      "Episode 550\tAverage Score: 12.99\n",
      "Episode 560\tAverage Score: 12.95\n",
      "Episode 570\tAverage Score: 13.39\n",
      "Episode 580\tAverage Score: 13.50\n",
      "Episode 590\tAverage Score: 13.67\n",
      "Episode 600\tAverage Score: 14.04\n",
      "Episode 610\tAverage Score: 14.09\n",
      "Episode 620\tAverage Score: 14.09\n",
      "Episode 630\tAverage Score: 14.05\n",
      "Episode 640\tAverage Score: 14.29\n",
      "Episode 650\tAverage Score: 14.41\n",
      "Episode 660\tAverage Score: 14.84\n",
      "Episode 670\tAverage Score: 14.88\n",
      "Episode 680\tAverage Score: 14.88\n",
      "Episode 690\tAverage Score: 14.90\n",
      "Episode 700\tAverage Score: 15.16\n",
      "Episode 710\tAverage Score: 15.24\n",
      "Episode 720\tAverage Score: 15.35\n",
      "Episode 730\tAverage Score: 15.42\n",
      "Episode 740\tAverage Score: 15.56\n",
      "Episode 750\tAverage Score: 15.87\n",
      "Episode 760\tAverage Score: 15.79\n",
      "Episode 770\tAverage Score: 15.69\n",
      "Episode 780\tAverage Score: 15.81\n",
      "Episode 790\tAverage Score: 16.00\n",
      "Episode 800\tAverage Score: 15.70\n",
      "Episode 810\tAverage Score: 15.57\n",
      "Episode 820\tAverage Score: 15.67\n",
      "Episode 830\tAverage Score: 15.70\n",
      "Episode 840\tAverage Score: 15.64\n",
      "Episode 850\tAverage Score: 15.53\n",
      "Episode 860\tAverage Score: 15.45\n",
      "Episode 870\tAverage Score: 15.70\n",
      "Episode 880\tAverage Score: 15.50\n",
      "Episode 890\tAverage Score: 15.30\n",
      "Episode 900\tAverage Score: 15.16\n",
      "Episode 910\tAverage Score: 15.31\n",
      "Episode 920\tAverage Score: 15.40\n",
      "Episode 930\tAverage Score: 15.57\n",
      "Episode 940\tAverage Score: 15.78\n",
      "Episode 950\tAverage Score: 15.58\n",
      "Episode 960\tAverage Score: 15.64\n",
      "Episode 970\tAverage Score: 15.30\n",
      "Episode 980\tAverage Score: 15.53\n",
      "Episode 990\tAverage Score: 15.29\n",
      "Episode 1000\tAverage Score: 15.51\n"
     ]
    }
   ],
   "source": [
    "# Double Dueling DQN\n",
    "scores = train_dqn(num_episodes=1000)"
   ]
  },
  {
   "cell_type": "code",
   "execution_count": 29,
   "metadata": {},
   "outputs": [],
   "source": [
    "test_tensor = torch.rand(64, 4) # 10 samples, 64 input, 4 output"
   ]
  },
  {
   "cell_type": "code",
   "execution_count": 9,
   "metadata": {},
   "outputs": [
    {
     "data": {
      "text/plain": [
       "[<matplotlib.lines.Line2D at 0x17e2e06c6a0>]"
      ]
     },
     "execution_count": 9,
     "metadata": {},
     "output_type": "execute_result"
    },
    {
     "data": {
      "image/png": "[encoded data removed]",
      "text/plain": [
       "<matplotlib.figure.Figure at 0x17e231a6978>"
      ]
     },
     "metadata": {
      "needs_background": "light"
     },
     "output_type": "display_data"
    }
   ],
   "source": [
    "plt.plot(scores)"
   ]
  },
  {
   "cell_type": "code",
   "execution_count": 46,
   "metadata": {},
   "outputs": [
    {
     "data": {
      "text/plain": [
       "[<matplotlib.lines.Line2D at 0x1ad49d435f8>]"
      ]
     },
     "execution_count": 46,
     "metadata": {},
     "output_type": "execute_result"
    },
    {
     "data": {
      "image/png": "[encoded data removed]",
      "text/plain": [
       "<matplotlib.figure.Figure at 0x1ad49d5bc88>"
      ]
     },
     "metadata": {
      "needs_background": "light"
     },
     "output_type": "display_data"
    }
   ],
   "source": [
    "plt.plot(scores)"
   ]
  },
  {
   "cell_type": "code",
   "execution_count": 11,
   "metadata": {},
   "outputs": [
    {
     "data": {
      "text/plain": [
       "[<matplotlib.lines.Line2D at 0x24106829c88>]"
      ]
     },
     "execution_count": 11,
     "metadata": {},
     "output_type": "execute_result"
    },
    {
     "data": {
      "image/png": "[encoded data removed]",
      "text/plain": [
       "<matplotlib.figure.Figure at 0x24138728ba8>"
      ]
     },
     "metadata": {
      "needs_background": "light"
     },
     "output_type": "display_data"
    }
   ],
   "source": [
    "plt.plot(scores)"
   ]
  },
  {
   "cell_type": "code",
   "execution_count": 35,
   "metadata": {},
   "outputs": [],
   "source": [
    "torch.save(agent.dqn_local.state_dict(), 'dql/models/dueling_dqn_2000_iters.pth')"
   ]
  },
  {
   "cell_type": "code",
   "execution_count": 11,
   "metadata": {},
   "outputs": [
    {
     "name": "stderr",
     "output_type": "stream",
     "text": [
      "ERROR:root:Exception calling application: \n",
      "Traceback (most recent call last):\n",
      "  File \"C:\\Users\\Johannes\\Anaconda3\\lib\\multiprocessing\\connection.py\", line 312, in _recv_bytes\n",
      "    nread, err = ov.GetOverlappedResult(True)\n",
      "BrokenPipeError: [WinError 109] Putki on lopetettu\n",
      "\n",
      "During handling of the above exception, another exception occurred:\n",
      "\n",
      "Traceback (most recent call last):\n",
      "  File \"C:\\Users\\Johannes\\Anaconda3\\lib\\site-packages\\grpc\\_server.py\", line 385, in _call_behavior\n",
      "    return behavior(argument, context), True\n",
      "  File \"C:\\Users\\Johannes\\Anaconda3\\lib\\site-packages\\unityagents\\rpc_communicator.py\", line 27, in Exchange\n",
      "    return self.child_conn.recv()\n",
      "  File \"C:\\Users\\Johannes\\Anaconda3\\lib\\multiprocessing\\connection.py\", line 250, in recv\n",
      "    buf = self._recv_bytes()\n",
      "  File \"C:\\Users\\Johannes\\Anaconda3\\lib\\multiprocessing\\connection.py\", line 321, in _recv_bytes\n",
      "    raise EOFError\n",
      "EOFError\n"
     ]
    }
   ],
   "source": [
    "env.close()"
   ]
  },
  {
   "cell_type": "markdown",
   "metadata": {},
   "source": [
    "# Watch the agent play"
   ]
  },
  {
   "cell_type": "code",
   "execution_count": 7,
   "metadata": {},
   "outputs": [],
   "source": [
    "agent.dqn_local.load_state_dict(torch.load('dql/models/simple_dqn_2000_iters.pth'))"
   ]
  },
  {
   "cell_type": "code",
   "execution_count": 11,
   "metadata": {},
   "outputs": [
    {
     "name": "stderr",
     "output_type": "stream",
     "text": [
      "INFO:unityagents:\n",
      "'Academy' started successfully!\n",
      "Unity Academy name: Academy\n",
      "        Number of Brains: 1\n",
      "        Number of External Brains : 1\n",
      "        Lesson number : 0\n",
      "        Reset Parameters :\n",
      "\t\t\n",
      "Unity brain name: BananaBrain\n",
      "        Number of Visual Observations (per agent): 0\n",
      "        Vector Observation space type: continuous\n",
      "        Vector Observation space size (per agent): 37\n",
      "        Number of stacked Vector Observation: 1\n",
      "        Vector Action space type: discrete\n",
      "        Vector Action space size (per agent): 4\n",
      "        Vector Action descriptions: , , , \n"
     ]
    },
    {
     "name": "stdout",
     "output_type": "stream",
     "text": [
      "Score: 20.0\n"
     ]
    }
   ],
   "source": [
    "# with graphics\n",
    "import time\n",
    "env = UnityEnvironment(file_name=\"./Banana_Windows_x86_64/Banana.exe\")\n",
    "brain_name = env.brain_names[0]\n",
    "brain = env.brains[brain_name]\n",
    "\n",
    "env_info = env.reset(train_mode=False)[brain_name] # reset the environment\n",
    "state = env_info.vector_observations[0]            # get the current state\n",
    "score = 0                                          # initialize the score\n",
    "while True:\n",
    "    time.sleep(float(0.1))\n",
    "    action = agent.act(state)                      # select an action\n",
    "    env_info = env.step(action)[brain_name]        # send the action to the environment\n",
    "    next_state = env_info.vector_observations[0]   # get the next state\n",
    "    reward = env_info.rewards[0]                   # get the reward\n",
    "    done = env_info.local_done[0]                  # see if episode has finished\n",
    "    score += reward                                # update the score\n",
    "    state = next_state                             # roll over the state to next time step\n",
    "    if done:                                       # exit loop if episode finished\n",
    "        break\n",
    "    \n",
    "print(\"Score: {}\".format(score))"
   ]
  },
  {
   "cell_type": "code",
   "execution_count": 12,
   "metadata": {},
   "outputs": [],
   "source": [
    "env.close()"
   ]
  },
  {
   "cell_type": "markdown",
   "metadata": {},
   "source": [
    "# Training manually"
   ]
  },
  {
   "cell_type": "code",
   "execution_count": 13,
   "metadata": {},
   "outputs": [],
   "source": [
    "env_info = env.reset()[brain_name]\n",
    "state = env_info.vector_observations[0] # reset environment for new episode\n",
    "eps = 0.02"
   ]
  },
  {
   "cell_type": "code",
   "execution_count": 45,
   "metadata": {},
   "outputs": [
    {
     "ename": "UnityEnvironmentException",
     "evalue": "No Unity environment is loaded.",
     "output_type": "error",
     "traceback": [
      "\u001b[1;31m---------------------------------------------------------------------------\u001b[0m",
      "\u001b[1;31mUnityEnvironmentException\u001b[0m                 Traceback (most recent call last)",
      "\u001b[1;32m<ipython-input-45-cc85edf8375b>\u001b[0m in \u001b[0;36m<module>\u001b[1;34m()\u001b[0m\n\u001b[1;32m----> 1\u001b[1;33m \u001b[0mscores\u001b[0m \u001b[1;33m=\u001b[0m \u001b[0mtrain_dqn\u001b[0m\u001b[1;33m(\u001b[0m\u001b[0mnum_episodes\u001b[0m\u001b[1;33m=\u001b[0m\u001b[1;36m50\u001b[0m\u001b[1;33m)\u001b[0m\u001b[1;33m\u001b[0m\u001b[0m\n\u001b[0m",
      "\u001b[1;32m<ipython-input-4-a4ed478b4074>\u001b[0m in \u001b[0;36mtrain_dqn\u001b[1;34m(num_episodes, max_t, eps_start, eps_end, eps_decay)\u001b[0m\n\u001b[0;32m      8\u001b[0m     \u001b[0meps\u001b[0m \u001b[1;33m=\u001b[0m \u001b[0meps_start\u001b[0m\u001b[1;33m\u001b[0m\u001b[0m\n\u001b[0;32m      9\u001b[0m     \u001b[1;32mfor\u001b[0m \u001b[0mepisode\u001b[0m \u001b[1;32min\u001b[0m \u001b[0mrange\u001b[0m\u001b[1;33m(\u001b[0m\u001b[1;36m1\u001b[0m\u001b[1;33m,\u001b[0m \u001b[0mnum_episodes\u001b[0m\u001b[1;33m+\u001b[0m\u001b[1;36m1\u001b[0m\u001b[1;33m)\u001b[0m\u001b[1;33m:\u001b[0m\u001b[1;33m\u001b[0m\u001b[0m\n\u001b[1;32m---> 10\u001b[1;33m         \u001b[0menv_info\u001b[0m \u001b[1;33m=\u001b[0m \u001b[0menv\u001b[0m\u001b[1;33m.\u001b[0m\u001b[0mreset\u001b[0m\u001b[1;33m(\u001b[0m\u001b[1;33m)\u001b[0m\u001b[1;33m[\u001b[0m\u001b[0mbrain_name\u001b[0m\u001b[1;33m]\u001b[0m\u001b[1;33m\u001b[0m\u001b[0m\n\u001b[0m\u001b[0;32m     11\u001b[0m         \u001b[0mstate\u001b[0m \u001b[1;33m=\u001b[0m \u001b[0menv_info\u001b[0m\u001b[1;33m.\u001b[0m\u001b[0mvector_observations\u001b[0m\u001b[1;33m[\u001b[0m\u001b[1;36m0\u001b[0m\u001b[1;33m]\u001b[0m \u001b[1;31m# reset environment for new episode\u001b[0m\u001b[1;33m\u001b[0m\u001b[0m\n\u001b[0;32m     12\u001b[0m         \u001b[0mscore\u001b[0m \u001b[1;33m=\u001b[0m \u001b[1;36m0\u001b[0m \u001b[1;31m# reset score for current episode\u001b[0m\u001b[1;33m\u001b[0m\u001b[0m\n",
      "\u001b[1;32m~\\Anaconda3\\lib\\site-packages\\unityagents\\environment.py\u001b[0m in \u001b[0;36mreset\u001b[1;34m(self, train_mode, config, lesson)\u001b[0m\n\u001b[0;32m    270\u001b[0m             \u001b[1;32mreturn\u001b[0m \u001b[0ms\u001b[0m\u001b[1;33m[\u001b[0m\u001b[1;36m0\u001b[0m\u001b[1;33m]\u001b[0m\u001b[1;33m\u001b[0m\u001b[0m\n\u001b[0;32m    271\u001b[0m         \u001b[1;32melse\u001b[0m\u001b[1;33m:\u001b[0m\u001b[1;33m\u001b[0m\u001b[0m\n\u001b[1;32m--> 272\u001b[1;33m             \u001b[1;32mraise\u001b[0m \u001b[0mUnityEnvironmentException\u001b[0m\u001b[1;33m(\u001b[0m\u001b[1;34m\"No Unity environment is loaded.\"\u001b[0m\u001b[1;33m)\u001b[0m\u001b[1;33m\u001b[0m\u001b[0m\n\u001b[0m\u001b[0;32m    273\u001b[0m \u001b[1;33m\u001b[0m\u001b[0m\n\u001b[0;32m    274\u001b[0m     \u001b[1;32mdef\u001b[0m \u001b[0mstep\u001b[0m\u001b[1;33m(\u001b[0m\u001b[0mself\u001b[0m\u001b[1;33m,\u001b[0m  \u001b[0mvector_action\u001b[0m\u001b[1;33m=\u001b[0m\u001b[1;32mNone\u001b[0m\u001b[1;33m,\u001b[0m \u001b[0mmemory\u001b[0m\u001b[1;33m=\u001b[0m\u001b[1;32mNone\u001b[0m\u001b[1;33m,\u001b[0m \u001b[0mtext_action\u001b[0m\u001b[1;33m=\u001b[0m\u001b[1;32mNone\u001b[0m\u001b[1;33m)\u001b[0m \u001b[1;33m->\u001b[0m \u001b[0mAllBrainInfo\u001b[0m\u001b[1;33m:\u001b[0m\u001b[1;33m\u001b[0m\u001b[0m\n",
      "\u001b[1;31mUnityEnvironmentException\u001b[0m: No Unity environment is loaded."
     ]
    }
   ],
   "source": [
    "scores = train_dqn(num_episodes=50)"
   ]
  },
  {
   "cell_type": "code",
   "execution_count": 14,
   "metadata": {},
   "outputs": [],
   "source": [
    "action = agent.act(state, eps)\n",
    "env_info = env.step(action)[brain_name]\n",
    "next_state = env_info.vector_observations[0]\n",
    "reward = env_info.rewards[0]\n",
    "done = env_info.local_done[0]"
   ]
  },
  {
   "cell_type": "code",
   "execution_count": 15,
   "metadata": {},
   "outputs": [],
   "source": [
    "experiences = agent.memory.sample()"
   ]
  },
  {
   "cell_type": "code",
   "execution_count": 16,
   "metadata": {},
   "outputs": [],
   "source": [
    "gamma = 1.0"
   ]
  },
  {
   "cell_type": "code",
   "execution_count": 17,
   "metadata": {},
   "outputs": [],
   "source": [
    "states, actions, rewards, next_states, dones = experiences"
   ]
  },
  {
   "cell_type": "code",
   "execution_count": 18,
   "metadata": {},
   "outputs": [
    {
     "data": {
      "text/plain": [
       "(tensor([[ 0.0000,  0.0000,  1.0000,  ...,  0.3562,  1.2362,  6.7493],\n",
       "         [ 1.0000,  0.0000,  0.0000,  ...,  0.4667,  2.3544, -1.3549],\n",
       "         [ 0.0000,  1.0000,  0.0000,  ...,  0.0000,  0.2928, -9.3203],\n",
       "         ...,\n",
       "         [ 1.0000,  0.0000,  0.0000,  ...,  0.0000,  0.0000,  2.1588],\n",
       "         [ 1.0000,  0.0000,  0.0000,  ...,  0.8800,  1.3360, -3.3723],\n",
       "         [ 0.0000,  0.0000,  0.0000,  ...,  0.2781,  0.0030,  2.5158]]),\n",
       " tensor([[3],\n",
       "         [3],\n",
       "         [1],\n",
       "         [1],\n",
       "         [0],\n",
       "         [3],\n",
       "         [1],\n",
       "         [0],\n",
       "         [1],\n",
       "         [3],\n",
       "         [1],\n",
       "         [1],\n",
       "         [2],\n",
       "         [3],\n",
       "         [1],\n",
       "         [0],\n",
       "         [3],\n",
       "         [2],\n",
       "         [3],\n",
       "         [0],\n",
       "         [3],\n",
       "         [1],\n",
       "         [3],\n",
       "         [3],\n",
       "         [1],\n",
       "         [1],\n",
       "         [0],\n",
       "         [1],\n",
       "         [2],\n",
       "         [0],\n",
       "         [2],\n",
       "         [1],\n",
       "         [2],\n",
       "         [2],\n",
       "         [3],\n",
       "         [0],\n",
       "         [2],\n",
       "         [2],\n",
       "         [2],\n",
       "         [1],\n",
       "         [0],\n",
       "         [2],\n",
       "         [1],\n",
       "         [3],\n",
       "         [3],\n",
       "         [0],\n",
       "         [1],\n",
       "         [3],\n",
       "         [2],\n",
       "         [3],\n",
       "         [2],\n",
       "         [2],\n",
       "         [3],\n",
       "         [0],\n",
       "         [0],\n",
       "         [3],\n",
       "         [2],\n",
       "         [2],\n",
       "         [2],\n",
       "         [3],\n",
       "         [3],\n",
       "         [0],\n",
       "         [0],\n",
       "         [0]]),\n",
       " tensor([[0.],\n",
       "         [0.],\n",
       "         [0.],\n",
       "         [0.],\n",
       "         [0.],\n",
       "         [0.],\n",
       "         [0.],\n",
       "         [0.],\n",
       "         [0.],\n",
       "         [0.],\n",
       "         [0.],\n",
       "         [0.],\n",
       "         [0.],\n",
       "         [0.],\n",
       "         [0.],\n",
       "         [0.],\n",
       "         [0.],\n",
       "         [0.],\n",
       "         [0.],\n",
       "         [0.],\n",
       "         [0.],\n",
       "         [0.],\n",
       "         [0.],\n",
       "         [0.],\n",
       "         [0.],\n",
       "         [0.],\n",
       "         [0.],\n",
       "         [0.],\n",
       "         [0.],\n",
       "         [0.],\n",
       "         [0.],\n",
       "         [0.],\n",
       "         [0.],\n",
       "         [0.],\n",
       "         [0.],\n",
       "         [0.],\n",
       "         [0.],\n",
       "         [0.],\n",
       "         [0.],\n",
       "         [0.],\n",
       "         [0.],\n",
       "         [0.],\n",
       "         [0.],\n",
       "         [0.],\n",
       "         [0.],\n",
       "         [0.],\n",
       "         [0.],\n",
       "         [0.],\n",
       "         [0.],\n",
       "         [0.],\n",
       "         [0.],\n",
       "         [0.],\n",
       "         [0.],\n",
       "         [0.],\n",
       "         [0.],\n",
       "         [0.],\n",
       "         [0.],\n",
       "         [0.],\n",
       "         [0.],\n",
       "         [0.],\n",
       "         [0.],\n",
       "         [0.],\n",
       "         [0.],\n",
       "         [0.]]),\n",
       " tensor([[  0.0000,   0.0000,   1.0000,  ...,   0.5122,  -1.2108,   3.3964],\n",
       "         [  0.0000,   0.0000,   1.0000,  ...,   0.1443,   1.4410,   0.0020],\n",
       "         [  0.0000,   1.0000,   0.0000,  ...,   0.0000,   0.1101, -10.3038],\n",
       "         ...,\n",
       "         [  1.0000,   0.0000,   0.0000,  ...,   0.0000,   0.0000,   7.7863],\n",
       "         [  1.0000,   0.0000,   0.0000,  ...,   0.8749,   0.7764,   5.8556],\n",
       "         [  0.0000,   0.0000,   0.0000,  ...,   0.2647,   0.0015,   7.9948]]),\n",
       " tensor([[0.],\n",
       "         [0.],\n",
       "         [0.],\n",
       "         [0.],\n",
       "         [0.],\n",
       "         [0.],\n",
       "         [0.],\n",
       "         [0.],\n",
       "         [0.],\n",
       "         [0.],\n",
       "         [0.],\n",
       "         [0.],\n",
       "         [0.],\n",
       "         [0.],\n",
       "         [0.],\n",
       "         [0.],\n",
       "         [0.],\n",
       "         [0.],\n",
       "         [0.],\n",
       "         [0.],\n",
       "         [0.],\n",
       "         [0.],\n",
       "         [0.],\n",
       "         [0.],\n",
       "         [0.],\n",
       "         [0.],\n",
       "         [0.],\n",
       "         [0.],\n",
       "         [0.],\n",
       "         [0.],\n",
       "         [0.],\n",
       "         [0.],\n",
       "         [0.],\n",
       "         [0.],\n",
       "         [0.],\n",
       "         [0.],\n",
       "         [0.],\n",
       "         [0.],\n",
       "         [0.],\n",
       "         [0.],\n",
       "         [0.],\n",
       "         [0.],\n",
       "         [0.],\n",
       "         [0.],\n",
       "         [0.],\n",
       "         [0.],\n",
       "         [0.],\n",
       "         [0.],\n",
       "         [0.],\n",
       "         [0.],\n",
       "         [0.],\n",
       "         [0.],\n",
       "         [0.],\n",
       "         [0.],\n",
       "         [0.],\n",
       "         [0.],\n",
       "         [0.],\n",
       "         [0.],\n",
       "         [0.],\n",
       "         [0.],\n",
       "         [0.],\n",
       "         [0.],\n",
       "         [0.],\n",
       "         [0.]]))"
      ]
     },
     "execution_count": 18,
     "metadata": {},
     "output_type": "execute_result"
    }
   ],
   "source": [
    "experiences"
   ]
  },
  {
   "cell_type": "code",
   "execution_count": 19,
   "metadata": {},
   "outputs": [],
   "source": [
    "q_eval = agent.dqn_target(next_states)"
   ]
  },
  {
   "cell_type": "code",
   "execution_count": 21,
   "metadata": {},
   "outputs": [],
   "source": [
    "dqn_actions = agent.dqn_local(states).detach().argmax(1).unsqueeze(1)"
   ]
  },
  {
   "cell_type": "code",
   "execution_count": 25,
   "metadata": {},
   "outputs": [],
   "source": [
    "dqn_values = agent.dqn_target(states).gather(1, dqn_actions)"
   ]
  },
  {
   "cell_type": "code",
   "execution_count": 62,
   "metadata": {},
   "outputs": [
    {
     "data": {
      "text/plain": [
       "tensor([[1.3502, 1.3502, 1.3502, 1.3502],\n",
       "        [1.7769, 1.7769, 1.7769, 1.7769],\n",
       "        [1.5467, 1.5467, 1.5467, 1.5467],\n",
       "        [1.7557, 1.7557, 1.7557, 1.7557],\n",
       "        [1.8015, 1.8015, 1.8015, 1.8015],\n",
       "        [1.3229, 1.3229, 1.3229, 1.3229],\n",
       "        [1.5914, 1.5914, 1.5914, 1.5914],\n",
       "        [1.4317, 1.4317, 1.4317, 1.4317],\n",
       "        [1.4559, 1.4559, 1.4559, 1.4559],\n",
       "        [1.5069, 1.5069, 1.5069, 1.5069]])"
      ]
     },
     "execution_count": 62,
     "metadata": {},
     "output_type": "execute_result"
    }
   ],
   "source": [
    "torch.ones(10, 4) + torch.rand(10,4).mean(1).unsqueeze(1)"
   ]
  },
  {
   "cell_type": "code",
   "execution_count": 67,
   "metadata": {},
   "outputs": [
    {
     "data": {
      "text/plain": [
       "tensor([[1., 1., 1., 1.],\n",
       "        [1., 1., 1., 1.],\n",
       "        [1., 1., 1., 1.],\n",
       "        [1., 1., 1., 1.],\n",
       "        [1., 1., 1., 1.],\n",
       "        [1., 1., 1., 1.],\n",
       "        [1., 1., 1., 1.],\n",
       "        [1., 1., 1., 1.],\n",
       "        [1., 1., 1., 1.],\n",
       "        [1., 1., 1., 1.]])"
      ]
     },
     "execution_count": 67,
     "metadata": {},
     "output_type": "execute_result"
    }
   ],
   "source": [
    "torch.ones(10,4) #+ torch.rand(10,4).mean(1).unsqueeze(1)"
   ]
  },
  {
   "cell_type": "markdown",
   "metadata": {},
   "source": [
    "# Improving the DQN\n",
    "Implementing some improvements..."
   ]
  },
  {
   "cell_type": "code",
   "execution_count": null,
   "metadata": {},
   "outputs": [],
   "source": []
  }
 ],
 "metadata": {
  "kernelspec": {
   "display_name": "Python 3",
   "language": "python",
   "name": "python3"
  },
  "language_info": {
   "codemirror_mode": {
    "name": "ipython",
    "version": 3
   },
   "file_extension": ".py",
   "mimetype": "text/x-python",
   "name": "python",
   "nbconvert_exporter": "python",
   "pygments_lexer": "ipython3",
   "version": "3.6.4"
  }
 },
 "nbformat": 4,
 "nbformat_minor": 2
}
