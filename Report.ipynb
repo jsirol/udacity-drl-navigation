{
 "cells": [
  {
   "cell_type": "markdown",
   "metadata": {},
   "source": [
    "# 1. Implementation details\n",
    "The implementation consists of files `agent.py`, `model.py` and `dqn_trainer.py` found under the `dql/` folder.\n",
    "The code is organized as follows:\n",
    "\n",
    "1. `agent.py` contains code for the agent.\n",
    "2. `model.py` contains the neural network code that is used by the agent.\n",
    "3. `dqn_trainer.py` is used to train the agent.\n",
    "\n",
    "For information about the project and the environment can be found in the file README.md (TODO: link)"
   ]
  },
  {
   "cell_type": "markdown",
   "metadata": {},
   "source": [
    "# 2. Algorithm\n",
    "\n",
    "The implemented algorithm is Deep Q-Learning with double Q-Learning and dueling network architecture.\n",
    "\n",
    "## Learning process\n",
    "The algorithm uses epsilon-greedy action selection policy to try out actions in the environment. At each step we add the observed state-action-reward-next_state tuple $(S, A, R, S')$ to the replay buffer (and remove the oldest experience if the buffer is already full).\n",
    "\n",
    "At every `update_every` step we sample `minibatch_size` experiences from the replay buffer and use the experieces to update our Q-value approximation (neural network). In this work we used fixed Q-targets and Double Q-Learning to stabilize learning.\n",
    "\n",
    "## Agent hyperparameters\n",
    "\n",
    "| parameter                               | value |\n",
    "|-----------------------------------------|-------|\n",
    "| experience replay buffer size           | 1e5   |\n",
    "| experience replay minibatch size        | 64    |\n",
    "| gamma (discount factor)                 | 0.99  |\n",
    "| tau (soft update factor)                | 1e-3  |\n",
    "| lr (learning rate)                      | 5e-4  |\n",
    "| update_every (update cycle for network) | 4     |\n",
    "\n",
    "\n",
    "## Neural network architecture\n",
    "The used neural network is a dueling neural network with fully connected layers. Specifically, we use 2 hidden layers with 64 and 128 hidden units respectively before feeding the outputs to the advantage (output dimension is the same as number of actions) and value (output dimension 1) streams. The final output is combined from the advantage and value streams by calculating\n",
    "\n",
    "$$\n",
    "Q(s,a) = V(s) + \\big(A(s,a) - \\frac{1}{|\\mathcal{A}|}\\sum_{a'} A(s,a')\\big),\n",
    "$$\n",
    "\n",
    "for each state $s$ and action $a$.\n",
    "This will be the Q-value of the state, up to a constant. This is because we subtract the mean advantage to fix identifiability of the model. See the Dueling networks paper for more details.\n",
    "\n",
    "\n",
    "\n",
    "\n",
    "## Further reading\n",
    "\n",
    "Deep Q-learning: [original paper](https://storage.googleapis.com/deepmind-media/dqn/DQNNaturePaper.pdf)\n",
    "\n",
    "Double Q-Learning: [original paper](https://arxiv.org/pdf/1509.06461.pdf)\n",
    "\n",
    "Dueling networks: [original paper](https://arxiv.org/pdf/1511.06581.pdf)"
   ]
  },
  {
   "cell_type": "markdown",
   "metadata": {},
   "source": [
    "# 3. Training\n",
    "Below, we show example of a training run of the algorithm and demonstrate we achieve the required score considered to solve the environment."
   ]
  },
  {
   "cell_type": "code",
   "execution_count": 4,
   "metadata": {},
   "outputs": [],
   "source": [
    "# imports\n",
    "from unityagents import UnityEnvironment\n",
    "import numpy as np\n",
    "import torch\n",
    "import matplotlib.pyplot as plt\n",
    "%matplotlib inline\n",
    "\n",
    "from dql.agent import Agent\n",
    "from dql.dqn_trainer import train_dqn"
   ]
  },
  {
   "cell_type": "code",
   "execution_count": 6,
   "metadata": {},
   "outputs": [
    {
     "name": "stderr",
     "output_type": "stream",
     "text": [
      "INFO:unityagents:\n",
      "'Academy' started successfully!\n",
      "Unity Academy name: Academy\n",
      "        Number of Brains: 1\n",
      "        Number of External Brains : 1\n",
      "        Lesson number : 0\n",
      "        Reset Parameters :\n",
      "\t\t\n",
      "Unity brain name: BananaBrain\n",
      "        Number of Visual Observations (per agent): 0\n",
      "        Vector Observation space type: continuous\n",
      "        Vector Observation space size (per agent): 37\n",
      "        Number of stacked Vector Observation: 1\n",
      "        Vector Action space type: discrete\n",
      "        Vector Action space size (per agent): 4\n",
      "        Vector Action descriptions: , , , \n"
     ]
    }
   ],
   "source": [
    "# get handle to the environment\n",
    "env = UnityEnvironment(file_name=\"./Banana_Windows_x86_64/Banana.exe\", no_graphics=True)\n",
    "\n",
    "# environment metadata\n",
    "state_size = 37\n",
    "action_size = 4\n",
    "\n",
    "# create the agent\n",
    "agent = Agent(state_size, action_size, seed=1234, use_gpu=False)"
   ]
  },
  {
   "cell_type": "code",
   "execution_count": 7,
   "metadata": {},
   "outputs": [
    {
     "name": "stdout",
     "output_type": "stream",
     "text": [
      "Episode 10\tAverage Score: -0.10\n",
      "Episode 20\tAverage Score: 0.05\n",
      "Episode 30\tAverage Score: 0.17\n",
      "Episode 40\tAverage Score: 0.12\n",
      "Episode 50\tAverage Score: 0.02\n",
      "Episode 60\tAverage Score: 0.23\n",
      "Episode 70\tAverage Score: 0.41\n",
      "Episode 80\tAverage Score: 0.54\n",
      "Episode 90\tAverage Score: 0.57\n",
      "Episode 100\tAverage Score: 0.80\n",
      "Episode 110\tAverage Score: 1.01\n",
      "Episode 120\tAverage Score: 1.36\n",
      "Episode 130\tAverage Score: 1.87\n",
      "Episode 140\tAverage Score: 2.25\n",
      "Episode 150\tAverage Score: 2.69\n",
      "Episode 160\tAverage Score: 3.10\n",
      "Episode 170\tAverage Score: 3.60\n",
      "Episode 180\tAverage Score: 3.97\n",
      "Episode 190\tAverage Score: 4.32\n",
      "Episode 200\tAverage Score: 4.71\n",
      "Episode 210\tAverage Score: 5.18\n",
      "Episode 220\tAverage Score: 5.40\n",
      "Episode 230\tAverage Score: 5.47\n",
      "Episode 240\tAverage Score: 5.81\n",
      "Episode 250\tAverage Score: 6.32\n",
      "Episode 260\tAverage Score: 6.55\n",
      "Episode 270\tAverage Score: 6.85\n",
      "Episode 280\tAverage Score: 6.97\n",
      "Episode 290\tAverage Score: 7.49\n",
      "Episode 300\tAverage Score: 7.65\n",
      "Episode 310\tAverage Score: 7.76\n",
      "Episode 320\tAverage Score: 8.06\n",
      "Episode 330\tAverage Score: 8.35\n",
      "Episode 340\tAverage Score: 8.61\n",
      "Episode 350\tAverage Score: 8.69\n",
      "Episode 360\tAverage Score: 9.11\n",
      "Episode 370\tAverage Score: 9.18\n",
      "Episode 380\tAverage Score: 9.47\n",
      "Episode 390\tAverage Score: 9.81\n",
      "Episode 400\tAverage Score: 9.94\n",
      "Episode 410\tAverage Score: 10.42\n",
      "Episode 420\tAverage Score: 10.48\n",
      "Episode 430\tAverage Score: 10.77\n",
      "Episode 440\tAverage Score: 11.01\n",
      "Episode 450\tAverage Score: 11.49\n",
      "Episode 460\tAverage Score: 11.47\n",
      "Episode 470\tAverage Score: 11.63\n",
      "Episode 480\tAverage Score: 12.05\n",
      "Episode 490\tAverage Score: 12.04\n",
      "Episode 500\tAverage Score: 12.61\n",
      "Episode 510\tAverage Score: 12.62\n",
      "Episode 520\tAverage Score: 12.97\n",
      "Episode 530\tAverage Score: 13.28\n",
      "Episode 540\tAverage Score: 13.41\n",
      "Episode 550\tAverage Score: 13.21\n",
      "Episode 560\tAverage Score: 13.32\n",
      "Episode 570\tAverage Score: 13.55\n",
      "Episode 580\tAverage Score: 13.43\n",
      "Episode 590\tAverage Score: 13.58\n",
      "Episode 600\tAverage Score: 13.44\n",
      "Episode 610\tAverage Score: 13.56\n",
      "Episode 620\tAverage Score: 13.48\n",
      "Episode 630\tAverage Score: 13.30\n",
      "Episode 640\tAverage Score: 13.19\n",
      "Episode 650\tAverage Score: 13.15\n",
      "Episode 660\tAverage Score: 13.15\n",
      "Episode 670\tAverage Score: 12.93\n",
      "Episode 680\tAverage Score: 13.23\n",
      "Episode 690\tAverage Score: 13.26\n",
      "Episode 700\tAverage Score: 13.62\n",
      "Episode 710\tAverage Score: 13.62\n",
      "Episode 720\tAverage Score: 13.90\n",
      "Episode 730\tAverage Score: 14.05\n",
      "Episode 740\tAverage Score: 14.31\n",
      "Episode 750\tAverage Score: 14.45\n",
      "Episode 760\tAverage Score: 14.74\n",
      "Episode 770\tAverage Score: 14.86\n",
      "Episode 780\tAverage Score: 14.84\n",
      "Episode 790\tAverage Score: 14.89\n",
      "Episode 800\tAverage Score: 14.58\n",
      "Episode 810\tAverage Score: 14.72\n",
      "Episode 820\tAverage Score: 14.74\n",
      "Episode 830\tAverage Score: 14.90\n",
      "Episode 840\tAverage Score: 14.93\n",
      "Episode 850\tAverage Score: 15.25\n",
      "Episode 860\tAverage Score: 15.24\n",
      "Episode 870\tAverage Score: 15.43\n",
      "Episode 880\tAverage Score: 15.55\n",
      "Episode 890\tAverage Score: 15.48\n",
      "Episode 900\tAverage Score: 15.68\n",
      "Episode 910\tAverage Score: 15.78\n",
      "Episode 920\tAverage Score: 15.68\n",
      "Episode 930\tAverage Score: 15.40\n",
      "Episode 940\tAverage Score: 15.21\n",
      "Episode 950\tAverage Score: 15.11\n",
      "Episode 960\tAverage Score: 15.26\n",
      "Episode 970\tAverage Score: 15.09\n",
      "Episode 980\tAverage Score: 14.93\n",
      "Episode 990\tAverage Score: 15.12\n",
      "Episode 1000\tAverage Score: 15.09\n"
     ]
    }
   ],
   "source": [
    "# Train the agent for 1000 episodes\n",
    "scores = train_dqn(agent, env, num_episodes=1000)"
   ]
  },
  {
   "cell_type": "code",
   "execution_count": 8,
   "metadata": {},
   "outputs": [],
   "source": [
    "# save (local) network weights\n",
    "torch.save(agent.dqn_local.state_dict(), 'dql/models/dueling_dqn_1000_iters.pth')"
   ]
  },
  {
   "cell_type": "code",
   "execution_count": 9,
   "metadata": {},
   "outputs": [],
   "source": [
    "# close the environment\n",
    "env.close()"
   ]
  },
  {
   "cell_type": "markdown",
   "metadata": {},
   "source": [
    "## 3.1. Plot of training rewards"
   ]
  },
  {
   "cell_type": "code",
   "execution_count": 26,
   "metadata": {},
   "outputs": [
    {
     "data": {
      "image/png": "[encoded data removed]",
      "text/plain": [
       "<matplotlib.figure.Figure at 0x217a05ffba8>"
      ]
     },
     "metadata": {
      "needs_background": "light"
     },
     "output_type": "display_data"
    }
   ],
   "source": [
    "plt.plot(scores)\n",
    "plt.hlines(y=13, xmin=0, xmax=1000, linewidth=2, color='r')\n",
    "plt.xlabel(\"Episode\")\n",
    "plt.ylabel(\"Reward\")\n",
    "plt.title(\"Reward plot\")\n",
    "plt.show()"
   ]
  },
  {
   "cell_type": "markdown",
   "metadata": {},
   "source": [
    "# 4. Watch the agent play (with pretrained model)"
   ]
  },
  {
   "cell_type": "code",
   "execution_count": null,
   "metadata": {},
   "outputs": [],
   "source": [
    "# imports\n",
    "from unityagents import UnityEnvironment\n",
    "import numpy as np\n",
    "import torch\n",
    "import matplotlib.pyplot as plt\n",
    "%matplotlib inline\n",
    "\n",
    "from dql.agent import Agent\n",
    "from dql.dqn_trainer import train_dqn"
   ]
  },
  {
   "cell_type": "code",
   "execution_count": null,
   "metadata": {},
   "outputs": [],
   "source": [
    "# get handle to the environment (with graphics)\n",
    "env = UnityEnvironment(file_name=\"./Banana_Windows_x86_64/Banana.exe\")\n",
    "\n",
    "# environment metadata\n",
    "state_size = 37\n",
    "action_size = 4\n",
    "\n",
    "# create the agent\n",
    "agent = Agent(state_size, action_size, seed=1234, use_gpu=False)"
   ]
  },
  {
   "cell_type": "code",
   "execution_count": null,
   "metadata": {},
   "outputs": [],
   "source": [
    "# load saved model weights\n",
    "agent.dqn_local.load_state_dict(torch.load('dql/models/simple_dqn_2000_iters.pth'))"
   ]
  },
  {
   "cell_type": "markdown",
   "metadata": {},
   "source": [
    "# 5. Future work"
   ]
  },
  {
   "cell_type": "code",
   "execution_count": null,
   "metadata": {},
   "outputs": [],
   "source": []
  },
  {
   "cell_type": "code",
   "execution_count": null,
   "metadata": {},
   "outputs": [],
   "source": []
  }
 ],
 "metadata": {
  "kernelspec": {
   "display_name": "Python 3",
   "language": "python",
   "name": "python3"
  },
  "language_info": {
   "codemirror_mode": {
    "name": "ipython",
    "version": 3
   },
   "file_extension": ".py",
   "mimetype": "text/x-python",
   "name": "python",
   "nbconvert_exporter": "python",
   "pygments_lexer": "ipython3",
   "version": "3.6.4"
  }
 },
 "nbformat": 4,
 "nbformat_minor": 2
}
